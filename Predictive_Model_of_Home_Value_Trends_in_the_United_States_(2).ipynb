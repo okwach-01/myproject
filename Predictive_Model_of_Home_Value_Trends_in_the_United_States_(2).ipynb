{
  "cells": [
    {
      "cell_type": "code",
      "execution_count": null,
      "id": "a88a8fc8",
      "metadata": {
        "id": "a88a8fc8",
        "outputId": "06466d8a-114d-4a81-e27a-7885efccd36e"
      },
      "outputs": [
        {
          "name": "stdout",
          "output_type": "stream",
          "text": [
            "           DATE  CSUSHPISA\n",
            "0    1987-01-01     63.965\n",
            "1    1987-02-01     64.424\n",
            "2    1987-03-01     64.736\n",
            "3    1987-04-01     65.131\n",
            "4    1987-05-01     65.564\n",
            "..          ...        ...\n",
            "439  2023-08-01    309.236\n",
            "440  2023-09-01    311.195\n",
            "441  2023-10-01    312.882\n",
            "442  2023-11-01    313.648\n",
            "443  2023-12-01    314.259\n",
            "\n",
            "[444 rows x 2 columns]\n"
          ]
        }
      ],
      "source": [
        "# Acquisition and collection of the data.\n",
        "#import libraries to use.\n",
        "\n",
        "import pandas as pd\n",
        "import numpy as np\n",
        "import seaborn as sns\n",
        "import matplotlib.pyplot as plt\n",
        "from sklearn.preprocessing import MinMaxScaler\n",
        "\n",
        "#load the data.\n",
        "dset = pd.read_csv(\"CSUSHPISA.csv\")\n",
        "print(dset)"
      ]
    },
    {
      "cell_type": "markdown",
      "id": "463fd879",
      "metadata": {
        "id": "463fd879"
      },
      "source": [
        "- So after importing and reading the csv file data. I went ahead  to look at the total entries of the dafraem as follows"
      ]
    },
    {
      "cell_type": "code",
      "execution_count": null,
      "id": "195d68d4",
      "metadata": {
        "id": "195d68d4",
        "outputId": "bad44cc0-e9c0-46e1-b73f-23dc30c1a719"
      },
      "outputs": [
        {
          "name": "stdout",
          "output_type": "stream",
          "text": [
            "444\n"
          ]
        }
      ],
      "source": [
        "# Total entries of the data\n",
        "total_entries = len(dset)\n",
        "print(len(dset))"
      ]
    },
    {
      "cell_type": "markdown",
      "id": "e53792ca",
      "metadata": {
        "id": "e53792ca"
      },
      "source": [
        "- Also, i checked if the data has any missing values,"
      ]
    },
    {
      "cell_type": "code",
      "execution_count": null,
      "id": "60c69486",
      "metadata": {
        "id": "60c69486",
        "outputId": "a1524b60-464b-44b8-f931-892c2a30d46f"
      },
      "outputs": [
        {
          "name": "stdout",
          "output_type": "stream",
          "text": [
            "DATE         0\n",
            "CSUSHPISA    0\n",
            "dtype: int64\n"
          ]
        }
      ],
      "source": [
        "# processing the data.\n",
        "# cleaning the data by handling missing values and outliers.\n",
        "#checking for missing values\n",
        "\n",
        "missing_values = dset.isnull().sum()\n",
        "print(missing_values)"
      ]
    },
    {
      "cell_type": "markdown",
      "id": "8fed5327",
      "metadata": {
        "id": "8fed5327"
      },
      "source": [
        "- From the data it is clear that the data has no missing values\n",
        "\n",
        "Next i checked the info of the data just to look at the dataframe info"
      ]
    },
    {
      "cell_type": "code",
      "execution_count": null,
      "id": "e0f06fff",
      "metadata": {
        "id": "e0f06fff",
        "outputId": "59b88ff2-4377-46bf-a35f-d8f4b4245026"
      },
      "outputs": [
        {
          "name": "stdout",
          "output_type": "stream",
          "text": [
            "<class 'pandas.core.frame.DataFrame'>\n",
            "RangeIndex: 444 entries, 0 to 443\n",
            "Data columns (total 2 columns):\n",
            " #   Column     Non-Null Count  Dtype  \n",
            "---  ------     --------------  -----  \n",
            " 0   DATE       444 non-null    object \n",
            " 1   CSUSHPISA  444 non-null    float64\n",
            "dtypes: float64(1), object(1)\n",
            "memory usage: 7.1+ KB\n"
          ]
        }
      ],
      "source": [
        "dset.info()\n"
      ]
    },
    {
      "cell_type": "markdown",
      "id": "80c1c947",
      "metadata": {
        "id": "80c1c947"
      },
      "source": [
        "- From the dataframe it is clear that we have 444 entries and 2 columns(DATE and CSUSHPISA). All of them have non null count , meaning we do not have nay null values. Alo, we can see that DATE is an object dtype while CSUSHPISA is float"
      ]
    },
    {
      "cell_type": "markdown",
      "id": "6ae5b8f9",
      "metadata": {
        "id": "6ae5b8f9"
      },
      "source": [
        "# Next i cehcked at decsribe to look at teh statistical Summary of the data"
      ]
    },
    {
      "cell_type": "code",
      "execution_count": null,
      "id": "c939a04a",
      "metadata": {
        "id": "c939a04a",
        "outputId": "e64658ec-326f-469e-cdfa-b8529140dfc3"
      },
      "outputs": [
        {
          "data": {
            "text/html": [
              "<div>\n",
              "<style scoped>\n",
              "    .dataframe tbody tr th:only-of-type {\n",
              "        vertical-align: middle;\n",
              "    }\n",
              "\n",
              "    .dataframe tbody tr th {\n",
              "        vertical-align: top;\n",
              "    }\n",
              "\n",
              "    .dataframe thead th {\n",
              "        text-align: right;\n",
              "    }\n",
              "</style>\n",
              "<table border=\"1\" class=\"dataframe\">\n",
              "  <thead>\n",
              "    <tr style=\"text-align: right;\">\n",
              "      <th></th>\n",
              "      <th>CSUSHPISA</th>\n",
              "    </tr>\n",
              "  </thead>\n",
              "  <tbody>\n",
              "    <tr>\n",
              "      <th>count</th>\n",
              "      <td>444.000000</td>\n",
              "    </tr>\n",
              "    <tr>\n",
              "      <th>mean</th>\n",
              "      <td>143.068007</td>\n",
              "    </tr>\n",
              "    <tr>\n",
              "      <th>std</th>\n",
              "      <td>62.584143</td>\n",
              "    </tr>\n",
              "    <tr>\n",
              "      <th>min</th>\n",
              "      <td>63.965000</td>\n",
              "    </tr>\n",
              "    <tr>\n",
              "      <th>25%</th>\n",
              "      <td>82.364250</td>\n",
              "    </tr>\n",
              "    <tr>\n",
              "      <th>50%</th>\n",
              "      <td>141.582500</td>\n",
              "    </tr>\n",
              "    <tr>\n",
              "      <th>75%</th>\n",
              "      <td>179.487250</td>\n",
              "    </tr>\n",
              "    <tr>\n",
              "      <th>max</th>\n",
              "      <td>314.259000</td>\n",
              "    </tr>\n",
              "  </tbody>\n",
              "</table>\n",
              "</div>"
            ],
            "text/plain": [
              "        CSUSHPISA\n",
              "count  444.000000\n",
              "mean   143.068007\n",
              "std     62.584143\n",
              "min     63.965000\n",
              "25%     82.364250\n",
              "50%    141.582500\n",
              "75%    179.487250\n",
              "max    314.259000"
            ]
          },
          "execution_count": 5,
          "metadata": {},
          "output_type": "execute_result"
        }
      ],
      "source": [
        "dset.describe()"
      ]
    },
    {
      "cell_type": "markdown",
      "id": "aea6f999",
      "metadata": {
        "id": "aea6f999"
      },
      "source": [
        "- So we can see it picked the numeriacl column and it has give us the count which are the entries in our dataframe. The median is 143.06, standard deviation is 62.584, min is 63.965, lowe quartile(255) is 82.363, 50% percent quartile is 141.58 which is same as median, and max is 314.25\n",
        "\n",
        "\n",
        "-***So as we looking at the name of the column, it does not look good, somebody reading my data cannot a get a full understanding of what it means, so ui went ahead to rename the column as follows***"
      ]
    },
    {
      "cell_type": "code",
      "execution_count": null,
      "id": "a8535aea",
      "metadata": {
        "id": "a8535aea"
      },
      "outputs": [],
      "source": [
        "# Rename the 'CSUSHPISA' column to 'Housevalue_trends'\n",
        "dset.rename(columns={'CSUSHPISA': 'Housevalue_trends'}, inplace=True)\n"
      ]
    },
    {
      "cell_type": "code",
      "execution_count": null,
      "id": "cd65784f",
      "metadata": {
        "id": "cd65784f",
        "outputId": "d7930d2f-06bb-4887-e257-62aa2c8caf35"
      },
      "outputs": [
        {
          "data": {
            "text/html": [
              "<div>\n",
              "<style scoped>\n",
              "    .dataframe tbody tr th:only-of-type {\n",
              "        vertical-align: middle;\n",
              "    }\n",
              "\n",
              "    .dataframe tbody tr th {\n",
              "        vertical-align: top;\n",
              "    }\n",
              "\n",
              "    .dataframe thead th {\n",
              "        text-align: right;\n",
              "    }\n",
              "</style>\n",
              "<table border=\"1\" class=\"dataframe\">\n",
              "  <thead>\n",
              "    <tr style=\"text-align: right;\">\n",
              "      <th></th>\n",
              "      <th>DATE</th>\n",
              "      <th>Housevalue_trends</th>\n",
              "    </tr>\n",
              "  </thead>\n",
              "  <tbody>\n",
              "    <tr>\n",
              "      <th>0</th>\n",
              "      <td>1987-01-01</td>\n",
              "      <td>63.965</td>\n",
              "    </tr>\n",
              "    <tr>\n",
              "      <th>1</th>\n",
              "      <td>1987-02-01</td>\n",
              "      <td>64.424</td>\n",
              "    </tr>\n",
              "    <tr>\n",
              "      <th>2</th>\n",
              "      <td>1987-03-01</td>\n",
              "      <td>64.736</td>\n",
              "    </tr>\n",
              "    <tr>\n",
              "      <th>3</th>\n",
              "      <td>1987-04-01</td>\n",
              "      <td>65.131</td>\n",
              "    </tr>\n",
              "    <tr>\n",
              "      <th>4</th>\n",
              "      <td>1987-05-01</td>\n",
              "      <td>65.564</td>\n",
              "    </tr>\n",
              "  </tbody>\n",
              "</table>\n",
              "</div>"
            ],
            "text/plain": [
              "         DATE  Housevalue_trends\n",
              "0  1987-01-01             63.965\n",
              "1  1987-02-01             64.424\n",
              "2  1987-03-01             64.736\n",
              "3  1987-04-01             65.131\n",
              "4  1987-05-01             65.564"
            ]
          },
          "execution_count": 7,
          "metadata": {},
          "output_type": "execute_result"
        }
      ],
      "source": [
        "dset.head()"
      ]
    },
    {
      "cell_type": "code",
      "execution_count": null,
      "id": "64feb594",
      "metadata": {
        "id": "64feb594",
        "outputId": "f265c5e2-d985-465d-96a1-1476c9cac21e"
      },
      "outputs": [
        {
          "data": {
            "image/png": "[encoded data removed]",
            "text/plain": [
              "<Figure size 1000x600 with 1 Axes>"
            ]
          },
          "metadata": {},
          "output_type": "display_data"
        }
      ],
      "source": [
        "# checking for outliers by boxplot\n",
        "plt.figure(figsize=(10, 6))\n",
        "dset.boxplot(column=['Housevalue_trends'])\n",
        "plt.title('Boxplot of Housevalue_trends')\n",
        "plt.show()"
      ]
    },
    {
      "cell_type": "markdown",
      "id": "487ba034",
      "metadata": {
        "id": "487ba034"
      },
      "source": [
        "- Next is carrying out feature collection, since from date Column we can cary out feature extraction to get months , year and day, that is what i went ahead to do"
      ]
    },
    {
      "cell_type": "code",
      "execution_count": null,
      "id": "f491661a",
      "metadata": {
        "id": "f491661a"
      },
      "outputs": [],
      "source": [
        "#model building\n",
        "#importing libraries\n",
        "from sklearn.model_selection import train_test_split,cross_val_score\n",
        "from sklearn.linear_model import LinearRegression\n",
        "from sklearn.metrics import mean_squared_error,r2_score"
      ]
    },
    {
      "cell_type": "code",
      "execution_count": null,
      "id": "6fd7b7b7",
      "metadata": {
        "id": "6fd7b7b7"
      },
      "outputs": [],
      "source": [
        "# Step 2: Feature Engineering\n",
        "# Convert the 'DATE' column to datetime format\n",
        "dset['DATE'] = pd.to_datetime(dset['DATE'])\n",
        "\n",
        "# Extract year, month, and day\n",
        "dset['year'] = dset['DATE'].dt.year\n",
        "dset['month'] = dset['DATE'].dt.month\n",
        "dset['day'] = dset['DATE'].dt.day\n"
      ]
    },
    {
      "cell_type": "code",
      "execution_count": null,
      "id": "2039c224",
      "metadata": {
        "id": "2039c224",
        "outputId": "c0aad2c5-0f69-4063-a786-dbdd6cb97871"
      },
      "outputs": [
        {
          "data": {
            "text/html": [
              "<div>\n",
              "<style scoped>\n",
              "    .dataframe tbody tr th:only-of-type {\n",
              "        vertical-align: middle;\n",
              "    }\n",
              "\n",
              "    .dataframe tbody tr th {\n",
              "        vertical-align: top;\n",
              "    }\n",
              "\n",
              "    .dataframe thead th {\n",
              "        text-align: right;\n",
              "    }\n",
              "</style>\n",
              "<table border=\"1\" class=\"dataframe\">\n",
              "  <thead>\n",
              "    <tr style=\"text-align: right;\">\n",
              "      <th></th>\n",
              "      <th>DATE</th>\n",
              "      <th>Housevalue_trends</th>\n",
              "      <th>year</th>\n",
              "      <th>month</th>\n",
              "      <th>day</th>\n",
              "    </tr>\n",
              "  </thead>\n",
              "  <tbody>\n",
              "    <tr>\n",
              "      <th>0</th>\n",
              "      <td>1987-01-01</td>\n",
              "      <td>63.965</td>\n",
              "      <td>1987</td>\n",
              "      <td>1</td>\n",
              "      <td>1</td>\n",
              "    </tr>\n",
              "    <tr>\n",
              "      <th>1</th>\n",
              "      <td>1987-02-01</td>\n",
              "      <td>64.424</td>\n",
              "      <td>1987</td>\n",
              "      <td>2</td>\n",
              "      <td>1</td>\n",
              "    </tr>\n",
              "    <tr>\n",
              "      <th>2</th>\n",
              "      <td>1987-03-01</td>\n",
              "      <td>64.736</td>\n",
              "      <td>1987</td>\n",
              "      <td>3</td>\n",
              "      <td>1</td>\n",
              "    </tr>\n",
              "    <tr>\n",
              "      <th>3</th>\n",
              "      <td>1987-04-01</td>\n",
              "      <td>65.131</td>\n",
              "      <td>1987</td>\n",
              "      <td>4</td>\n",
              "      <td>1</td>\n",
              "    </tr>\n",
              "    <tr>\n",
              "      <th>4</th>\n",
              "      <td>1987-05-01</td>\n",
              "      <td>65.564</td>\n",
              "      <td>1987</td>\n",
              "      <td>5</td>\n",
              "      <td>1</td>\n",
              "    </tr>\n",
              "  </tbody>\n",
              "</table>\n",
              "</div>"
            ],
            "text/plain": [
              "        DATE  Housevalue_trends  year  month  day\n",
              "0 1987-01-01             63.965  1987      1    1\n",
              "1 1987-02-01             64.424  1987      2    1\n",
              "2 1987-03-01             64.736  1987      3    1\n",
              "3 1987-04-01             65.131  1987      4    1\n",
              "4 1987-05-01             65.564  1987      5    1"
            ]
          },
          "execution_count": 11,
          "metadata": {},
          "output_type": "execute_result"
        }
      ],
      "source": [
        "dset.head()"
      ]
    },
    {
      "cell_type": "code",
      "execution_count": null,
      "id": "6c7b74e5",
      "metadata": {
        "id": "6c7b74e5"
      },
      "outputs": [],
      "source": [
        "# Set the 'DATE' column as the index\n",
        "dset.set_index('DATE', inplace=True)\n"
      ]
    },
    {
      "cell_type": "code",
      "execution_count": null,
      "id": "0a402a6b",
      "metadata": {
        "scrolled": true,
        "id": "0a402a6b",
        "outputId": "a09edeee-ea0d-4086-db4b-799ff6e71510"
      },
      "outputs": [
        {
          "data": {
            "text/html": [
              "<div>\n",
              "<style scoped>\n",
              "    .dataframe tbody tr th:only-of-type {\n",
              "        vertical-align: middle;\n",
              "    }\n",
              "\n",
              "    .dataframe tbody tr th {\n",
              "        vertical-align: top;\n",
              "    }\n",
              "\n",
              "    .dataframe thead th {\n",
              "        text-align: right;\n",
              "    }\n",
              "</style>\n",
              "<table border=\"1\" class=\"dataframe\">\n",
              "  <thead>\n",
              "    <tr style=\"text-align: right;\">\n",
              "      <th></th>\n",
              "      <th>Housevalue_trends</th>\n",
              "      <th>year</th>\n",
              "      <th>month</th>\n",
              "      <th>day</th>\n",
              "    </tr>\n",
              "    <tr>\n",
              "      <th>DATE</th>\n",
              "      <th></th>\n",
              "      <th></th>\n",
              "      <th></th>\n",
              "      <th></th>\n",
              "    </tr>\n",
              "  </thead>\n",
              "  <tbody>\n",
              "    <tr>\n",
              "      <th>1987-01-01</th>\n",
              "      <td>63.965</td>\n",
              "      <td>1987</td>\n",
              "      <td>1</td>\n",
              "      <td>1</td>\n",
              "    </tr>\n",
              "    <tr>\n",
              "      <th>1987-02-01</th>\n",
              "      <td>64.424</td>\n",
              "      <td>1987</td>\n",
              "      <td>2</td>\n",
              "      <td>1</td>\n",
              "    </tr>\n",
              "    <tr>\n",
              "      <th>1987-03-01</th>\n",
              "      <td>64.736</td>\n",
              "      <td>1987</td>\n",
              "      <td>3</td>\n",
              "      <td>1</td>\n",
              "    </tr>\n",
              "    <tr>\n",
              "      <th>1987-04-01</th>\n",
              "      <td>65.131</td>\n",
              "      <td>1987</td>\n",
              "      <td>4</td>\n",
              "      <td>1</td>\n",
              "    </tr>\n",
              "    <tr>\n",
              "      <th>1987-05-01</th>\n",
              "      <td>65.564</td>\n",
              "      <td>1987</td>\n",
              "      <td>5</td>\n",
              "      <td>1</td>\n",
              "    </tr>\n",
              "  </tbody>\n",
              "</table>\n",
              "</div>"
            ],
            "text/plain": [
              "            Housevalue_trends  year  month  day\n",
              "DATE                                           \n",
              "1987-01-01             63.965  1987      1    1\n",
              "1987-02-01             64.424  1987      2    1\n",
              "1987-03-01             64.736  1987      3    1\n",
              "1987-04-01             65.131  1987      4    1\n",
              "1987-05-01             65.564  1987      5    1"
            ]
          },
          "execution_count": 13,
          "metadata": {},
          "output_type": "execute_result"
        }
      ],
      "source": [
        "dset.head()"
      ]
    },
    {
      "cell_type": "code",
      "execution_count": null,
      "id": "71bf9717",
      "metadata": {
        "id": "71bf9717"
      },
      "outputs": [],
      "source": [
        "#Data splitting and scaling\n",
        "X = dset[['year']]  # Features\n",
        "y = dset['Housevalue_trends']         # Target variable"
      ]
    },
    {
      "cell_type": "code",
      "execution_count": null,
      "id": "a4b59fac",
      "metadata": {
        "id": "a4b59fac"
      },
      "outputs": [],
      "source": [
        "# Split the data into training and testing sets\n",
        "X_train,X_test,y_train,y_test=train_test_split(X,y,test_size=0.2,random_state=40)"
      ]
    },
    {
      "cell_type": "code",
      "execution_count": null,
      "id": "689c0145",
      "metadata": {
        "id": "689c0145",
        "outputId": "39d33ea3-64a8-4750-ac9a-c1ffa392dd3f"
      },
      "outputs": [
        {
          "name": "stdout",
          "output_type": "stream",
          "text": [
            "<class 'pandas.core.frame.DataFrame'>\n"
          ]
        }
      ],
      "source": [
        "print(type(X_train))"
      ]
    },
    {
      "cell_type": "code",
      "execution_count": null,
      "id": "413e8f9a",
      "metadata": {
        "id": "413e8f9a",
        "outputId": "cd80e0db-cbf7-4645-919e-5d22cc046fb1"
      },
      "outputs": [
        {
          "name": "stdout",
          "output_type": "stream",
          "text": [
            "(355, 1)\n"
          ]
        }
      ],
      "source": [
        "print(X_train.shape)"
      ]
    },
    {
      "cell_type": "code",
      "execution_count": null,
      "id": "36859787",
      "metadata": {
        "id": "36859787",
        "outputId": "8a236d79-d180-4e36-f8c8-62d7bb47ad48"
      },
      "outputs": [
        {
          "name": "stdout",
          "output_type": "stream",
          "text": [
            "Training set shapes:\n",
            "X_train: (355, 1)\n",
            "y_train: (355,)\n",
            "\n",
            "Testing set shapes:\n",
            "X_test: (89, 1)\n",
            "y_test: (89,)\n"
          ]
        }
      ],
      "source": [
        "# Print the shapes of training and testing sets\n",
        "print(\"Training set shapes:\")\n",
        "print(f\"X_train: {X_train.shape}\")\n",
        "print(f\"y_train: {y_train.shape}\")\n",
        "\n",
        "print(\"\\nTesting set shapes:\")\n",
        "print(f\"X_test: {X_test.shape}\")\n",
        "print(f\"y_test: {y_test.shape}\")\n"
      ]
    },
    {
      "cell_type": "markdown",
      "id": "d9e5190d",
      "metadata": {
        "id": "d9e5190d"
      },
      "source": [
        "- I wanted to use Linear REgression model for buiding my model hence i fitted it"
      ]
    },
    {
      "cell_type": "code",
      "execution_count": null,
      "id": "3c2f7697",
      "metadata": {
        "id": "3c2f7697",
        "outputId": "e95fcd4e-4c77-4d44-ffe7-25a7afb860ea"
      },
      "outputs": [
        {
          "data": {
            "text/html": [
              "<style>#sk-container-id-1 {color: black;}#sk-container-id-1 pre{padding: 0;}#sk-container-id-1 div.sk-toggleable {background-color: white;}#sk-container-id-1 label.sk-toggleable__label {cursor: pointer;display: block;width: 100%;margin-bottom: 0;padding: 0.3em;box-sizing: border-box;text-align: center;}#sk-container-id-1 label.sk-toggleable__label-arrow:before {content: \"▸\";float: left;margin-right: 0.25em;color: #696969;}#sk-container-id-1 label.sk-toggleable__label-arrow:hover:before {color: black;}#sk-container-id-1 div.sk-estimator:hover label.sk-toggleable__label-arrow:before {color: black;}#sk-container-id-1 div.sk-toggleable__content {max-height: 0;max-width: 0;overflow: hidden;text-align: left;background-color: #f0f8ff;}#sk-container-id-1 div.sk-toggleable__content pre {margin: 0.2em;color: black;border-radius: 0.25em;background-color: #f0f8ff;}#sk-container-id-1 input.sk-toggleable__control:checked~div.sk-toggleable__content {max-height: 200px;max-width: 100%;overflow: auto;}#sk-container-id-1 input.sk-toggleable__control:checked~label.sk-toggleable__label-arrow:before {content: \"▾\";}#sk-container-id-1 div.sk-estimator input.sk-toggleable__control:checked~label.sk-toggleable__label {background-color: #d4ebff;}#sk-container-id-1 div.sk-label input.sk-toggleable__control:checked~label.sk-toggleable__label {background-color: #d4ebff;}#sk-container-id-1 input.sk-hidden--visually {border: 0;clip: rect(1px 1px 1px 1px);clip: rect(1px, 1px, 1px, 1px);height: 1px;margin: -1px;overflow: hidden;padding: 0;position: absolute;width: 1px;}#sk-container-id-1 div.sk-estimator {font-family: monospace;background-color: #f0f8ff;border: 1px dotted black;border-radius: 0.25em;box-sizing: border-box;margin-bottom: 0.5em;}#sk-container-id-1 div.sk-estimator:hover {background-color: #d4ebff;}#sk-container-id-1 div.sk-parallel-item::after {content: \"\";width: 100%;border-bottom: 1px solid gray;flex-grow: 1;}#sk-container-id-1 div.sk-label:hover label.sk-toggleable__label {background-color: #d4ebff;}#sk-container-id-1 div.sk-serial::before {content: \"\";position: absolute;border-left: 1px solid gray;box-sizing: border-box;top: 0;bottom: 0;left: 50%;z-index: 0;}#sk-container-id-1 div.sk-serial {display: flex;flex-direction: column;align-items: center;background-color: white;padding-right: 0.2em;padding-left: 0.2em;position: relative;}#sk-container-id-1 div.sk-item {position: relative;z-index: 1;}#sk-container-id-1 div.sk-parallel {display: flex;align-items: stretch;justify-content: center;background-color: white;position: relative;}#sk-container-id-1 div.sk-item::before, #sk-container-id-1 div.sk-parallel-item::before {content: \"\";position: absolute;border-left: 1px solid gray;box-sizing: border-box;top: 0;bottom: 0;left: 50%;z-index: -1;}#sk-container-id-1 div.sk-parallel-item {display: flex;flex-direction: column;z-index: 1;position: relative;background-color: white;}#sk-container-id-1 div.sk-parallel-item:first-child::after {align-self: flex-end;width: 50%;}#sk-container-id-1 div.sk-parallel-item:last-child::after {align-self: flex-start;width: 50%;}#sk-container-id-1 div.sk-parallel-item:only-child::after {width: 0;}#sk-container-id-1 div.sk-dashed-wrapped {border: 1px dashed gray;margin: 0 0.4em 0.5em 0.4em;box-sizing: border-box;padding-bottom: 0.4em;background-color: white;}#sk-container-id-1 div.sk-label label {font-family: monospace;font-weight: bold;display: inline-block;line-height: 1.2em;}#sk-container-id-1 div.sk-label-container {text-align: center;}#sk-container-id-1 div.sk-container {/* jupyter's `normalize.less` sets `[hidden] { display: none; }` but bootstrap.min.css set `[hidden] { display: none !important; }` so we also need the `!important` here to be able to override the default hidden behavior on the sphinx rendered scikit-learn.org. See: https://github.com/scikit-learn/scikit-learn/issues/21755 */display: inline-block !important;position: relative;}#sk-container-id-1 div.sk-text-repr-fallback {display: none;}</style><div id=\"sk-container-id-1\" class=\"sk-top-container\"><div class=\"sk-text-repr-fallback\"><pre>LinearRegression()</pre><b>In a Jupyter environment, please rerun this cell to show the HTML representation or trust the notebook. <br />On GitHub, the HTML representation is unable to render, please try loading this page with nbviewer.org.</b></div><div class=\"sk-container\" hidden><div class=\"sk-item\"><div class=\"sk-estimator sk-toggleable\"><input class=\"sk-toggleable__control sk-hidden--visually\" id=\"sk-estimator-id-1\" type=\"checkbox\" checked><label for=\"sk-estimator-id-1\" class=\"sk-toggleable__label sk-toggleable__label-arrow\">LinearRegression</label><div class=\"sk-toggleable__content\"><pre>LinearRegression()</pre></div></div></div></div></div>"
            ],
            "text/plain": [
              "LinearRegression()"
            ]
          },
          "execution_count": 19,
          "metadata": {},
          "output_type": "execute_result"
        }
      ],
      "source": [
        "#model training\n",
        "lin_reg = LinearRegression()\n",
        "lin_reg.fit(X_train,y_train)"
      ]
    },
    {
      "cell_type": "code",
      "execution_count": null,
      "id": "86f5338a",
      "metadata": {
        "id": "86f5338a"
      },
      "outputs": [],
      "source": [
        "#doing the predictions\n",
        "\n",
        "y_prediction = lin_reg.predict(X_test)"
      ]
    },
    {
      "cell_type": "code",
      "execution_count": null,
      "id": "0fc9f9aa",
      "metadata": {
        "id": "0fc9f9aa",
        "outputId": "7b1dda96-fc18-4ee5-f941-365b52ade903"
      },
      "outputs": [
        {
          "name": "stdout",
          "output_type": "stream",
          "text": [
            "Mean Squared Error: 641.7692266994028\n"
          ]
        }
      ],
      "source": [
        "mse = mean_squared_error(y_test, y_prediction)\n",
        "print(\"Mean Squared Error:\", mse)"
      ]
    },
    {
      "cell_type": "markdown",
      "id": "3e409e9c",
      "metadata": {
        "id": "3e409e9c"
      },
      "source": [
        "- A Mean Squared Error (MSE) of 641.7692266994028 indicates the average squared difference between the actual and predicted home price values\n",
        "\n"
      ]
    },
    {
      "cell_type": "markdown",
      "id": "3fd7db7c",
      "metadata": {
        "id": "3fd7db7c"
      },
      "source": [
        "- I went ahead to calculate the accuracy score"
      ]
    },
    {
      "cell_type": "code",
      "execution_count": null,
      "id": "2156aef6",
      "metadata": {
        "id": "2156aef6",
        "outputId": "db25c8d3-d791-4339-ed0f-8b5e67d1d8ee"
      },
      "outputs": [
        {
          "name": "stdout",
          "output_type": "stream",
          "text": [
            "0.8436413794132215\n"
          ]
        }
      ],
      "source": [
        "from sklearn.metrics import r2_score\n",
        "\n",
        "# Assuming y_test is your actual target values and y_prediction is the predicted values\n",
        "r2_score_value = r2_score(y_test, y_prediction)\n",
        "print(r2_score_value)"
      ]
    },
    {
      "cell_type": "markdown",
      "id": "c573302c",
      "metadata": {
        "id": "c573302c"
      },
      "source": [
        "- the R2 score is approximately 0.8436413794132215, which indicates that around 84.36% of the variance in the target variable is explained by the independent variables in your predictive model.\n",
        "\n",
        "- A higher R2 score closer to 1 indicates that the model fits the data well, while a lower score suggests that the model does not explain much of the variability in the target variable."
      ]
    },
    {
      "cell_type": "code",
      "execution_count": null,
      "id": "045fdc84",
      "metadata": {
        "id": "045fdc84",
        "outputId": "b4006d92-08c3-45e1-a05b-db019fcdcd39"
      },
      "outputs": [
        {
          "data": {
            "image/png": "[encoded data removed]",
            "text/plain": [
              "<Figure size 640x480 with 1 Axes>"
            ]
          },
          "metadata": {},
          "output_type": "display_data"
        }
      ],
      "source": [
        "import matplotlib.pyplot as plt\n",
        "# Assuming X_test is the subset of X used for predictions\n",
        "y_prediction = lin_reg.predict(X_test)\n",
        "\n",
        "# Ensure X_test is used for plotting\n",
        "plt.figure()\n",
        "plt.scatter(X_test, y_test) # Assuming y_test is the actual values for X_test\n",
        "plt.plot(X_test, y_prediction, color=\"red\", label='Predictions')\n",
        "plt.xlabel(\"Year\")\n",
        "plt.ylabel(\"Housevalue_trends\")\n",
        "plt.legend()\n",
        "plt.show()\n",
        "\n",
        "\n"
      ]
    },
    {
      "cell_type": "markdown",
      "id": "845d32aa",
      "metadata": {
        "id": "845d32aa"
      },
      "source": [
        "- From the scatter plot we can see that majority of the actual values are far from predicted hence not avgood mofel fit fro out model"
      ]
    },
    {
      "cell_type": "markdown",
      "id": "6c05cc9c",
      "metadata": {
        "id": "6c05cc9c"
      },
      "source": [
        "# Now i went ahead to test it with Random forest Regression model"
      ]
    },
    {
      "cell_type": "code",
      "execution_count": null,
      "id": "037b3293",
      "metadata": {
        "id": "037b3293"
      },
      "outputs": [],
      "source": [
        "import pandas as pd\n",
        "import numpy as np\n",
        "import matplotlib.pyplot as plt\n",
        "\n",
        "from sklearn.preprocessing import StandardScaler\n",
        "from sklearn.model_selection import train_test_split\n",
        "from sklearn.metrics import mean_squared_error\n"
      ]
    },
    {
      "cell_type": "markdown",
      "id": "8ffa681c",
      "metadata": {
        "id": "8ffa681c"
      },
      "source": [
        "# PREPOCESSING"
      ]
    },
    {
      "cell_type": "code",
      "execution_count": null,
      "id": "ac9cdbc4",
      "metadata": {
        "id": "ac9cdbc4"
      },
      "outputs": [],
      "source": [
        "# Data splitting\n",
        "X_train, X_test, y_train, y_test = train_test_split(X, y, test_size=0.2, random_state=42)"
      ]
    },
    {
      "cell_type": "markdown",
      "id": "b0e493bb",
      "metadata": {
        "id": "b0e493bb"
      },
      "source": [
        "- fitting the model"
      ]
    },
    {
      "cell_type": "code",
      "execution_count": null,
      "id": "aca06495",
      "metadata": {
        "id": "aca06495",
        "outputId": "d4761b6c-6465-41e4-c165-481fb0a7d47d"
      },
      "outputs": [
        {
          "data": {
            "text/html": [
              "<style>#sk-container-id-2 {color: black;}#sk-container-id-2 pre{padding: 0;}#sk-container-id-2 div.sk-toggleable {background-color: white;}#sk-container-id-2 label.sk-toggleable__label {cursor: pointer;display: block;width: 100%;margin-bottom: 0;padding: 0.3em;box-sizing: border-box;text-align: center;}#sk-container-id-2 label.sk-toggleable__label-arrow:before {content: \"▸\";float: left;margin-right: 0.25em;color: #696969;}#sk-container-id-2 label.sk-toggleable__label-arrow:hover:before {color: black;}#sk-container-id-2 div.sk-estimator:hover label.sk-toggleable__label-arrow:before {color: black;}#sk-container-id-2 div.sk-toggleable__content {max-height: 0;max-width: 0;overflow: hidden;text-align: left;background-color: #f0f8ff;}#sk-container-id-2 div.sk-toggleable__content pre {margin: 0.2em;color: black;border-radius: 0.25em;background-color: #f0f8ff;}#sk-container-id-2 input.sk-toggleable__control:checked~div.sk-toggleable__content {max-height: 200px;max-width: 100%;overflow: auto;}#sk-container-id-2 input.sk-toggleable__control:checked~label.sk-toggleable__label-arrow:before {content: \"▾\";}#sk-container-id-2 div.sk-estimator input.sk-toggleable__control:checked~label.sk-toggleable__label {background-color: #d4ebff;}#sk-container-id-2 div.sk-label input.sk-toggleable__control:checked~label.sk-toggleable__label {background-color: #d4ebff;}#sk-container-id-2 input.sk-hidden--visually {border: 0;clip: rect(1px 1px 1px 1px);clip: rect(1px, 1px, 1px, 1px);height: 1px;margin: -1px;overflow: hidden;padding: 0;position: absolute;width: 1px;}#sk-container-id-2 div.sk-estimator {font-family: monospace;background-color: #f0f8ff;border: 1px dotted black;border-radius: 0.25em;box-sizing: border-box;margin-bottom: 0.5em;}#sk-container-id-2 div.sk-estimator:hover {background-color: #d4ebff;}#sk-container-id-2 div.sk-parallel-item::after {content: \"\";width: 100%;border-bottom: 1px solid gray;flex-grow: 1;}#sk-container-id-2 div.sk-label:hover label.sk-toggleable__label {background-color: #d4ebff;}#sk-container-id-2 div.sk-serial::before {content: \"\";position: absolute;border-left: 1px solid gray;box-sizing: border-box;top: 0;bottom: 0;left: 50%;z-index: 0;}#sk-container-id-2 div.sk-serial {display: flex;flex-direction: column;align-items: center;background-color: white;padding-right: 0.2em;padding-left: 0.2em;position: relative;}#sk-container-id-2 div.sk-item {position: relative;z-index: 1;}#sk-container-id-2 div.sk-parallel {display: flex;align-items: stretch;justify-content: center;background-color: white;position: relative;}#sk-container-id-2 div.sk-item::before, #sk-container-id-2 div.sk-parallel-item::before {content: \"\";position: absolute;border-left: 1px solid gray;box-sizing: border-box;top: 0;bottom: 0;left: 50%;z-index: -1;}#sk-container-id-2 div.sk-parallel-item {display: flex;flex-direction: column;z-index: 1;position: relative;background-color: white;}#sk-container-id-2 div.sk-parallel-item:first-child::after {align-self: flex-end;width: 50%;}#sk-container-id-2 div.sk-parallel-item:last-child::after {align-self: flex-start;width: 50%;}#sk-container-id-2 div.sk-parallel-item:only-child::after {width: 0;}#sk-container-id-2 div.sk-dashed-wrapped {border: 1px dashed gray;margin: 0 0.4em 0.5em 0.4em;box-sizing: border-box;padding-bottom: 0.4em;background-color: white;}#sk-container-id-2 div.sk-label label {font-family: monospace;font-weight: bold;display: inline-block;line-height: 1.2em;}#sk-container-id-2 div.sk-label-container {text-align: center;}#sk-container-id-2 div.sk-container {/* jupyter's `normalize.less` sets `[hidden] { display: none; }` but bootstrap.min.css set `[hidden] { display: none !important; }` so we also need the `!important` here to be able to override the default hidden behavior on the sphinx rendered scikit-learn.org. See: https://github.com/scikit-learn/scikit-learn/issues/21755 */display: inline-block !important;position: relative;}#sk-container-id-2 div.sk-text-repr-fallback {display: none;}</style><div id=\"sk-container-id-2\" class=\"sk-top-container\"><div class=\"sk-text-repr-fallback\"><pre>RandomForestRegressor(max_depth=5)</pre><b>In a Jupyter environment, please rerun this cell to show the HTML representation or trust the notebook. <br />On GitHub, the HTML representation is unable to render, please try loading this page with nbviewer.org.</b></div><div class=\"sk-container\" hidden><div class=\"sk-item\"><div class=\"sk-estimator sk-toggleable\"><input class=\"sk-toggleable__control sk-hidden--visually\" id=\"sk-estimator-id-2\" type=\"checkbox\" checked><label for=\"sk-estimator-id-2\" class=\"sk-toggleable__label sk-toggleable__label-arrow\">RandomForestRegressor</label><div class=\"sk-toggleable__content\"><pre>RandomForestRegressor(max_depth=5)</pre></div></div></div></div></div>"
            ],
            "text/plain": [
              "RandomForestRegressor(max_depth=5)"
            ]
          },
          "execution_count": 26,
          "metadata": {},
          "output_type": "execute_result"
        }
      ],
      "source": [
        "#model training\n",
        "from sklearn.ensemble import RandomForestRegressor\n",
        "\n",
        "# Our forest consists of 100 trees with a max depth of 5 in this example\n",
        "RF = RandomForestRegressor(n_estimators=100, max_depth=5)\n",
        "RF.fit(X_train,y_train)"
      ]
    },
    {
      "cell_type": "code",
      "execution_count": null,
      "id": "99dbd06e",
      "metadata": {
        "id": "99dbd06e",
        "outputId": "77cb7337-7847-4f18-f2cb-90378ead4327"
      },
      "outputs": [
        {
          "name": "stdout",
          "output_type": "stream",
          "text": [
            "RMSE: 5.256437663049427\n"
          ]
        }
      ],
      "source": [
        "#doing the predictions\n",
        "# Get predictions\n",
        "y_pred = RF.predict(X_test)\n",
        "\n",
        "# Compute RMSE\n",
        "print(\"RMSE:\",np.sqrt(mean_squared_error(y_test,y_pred)))"
      ]
    },
    {
      "cell_type": "code",
      "execution_count": null,
      "id": "268bc881",
      "metadata": {
        "id": "268bc881",
        "outputId": "331da061-8f37-45c0-8a17-2edc6156e4df"
      },
      "outputs": [
        {
          "name": "stdout",
          "output_type": "stream",
          "text": [
            "0.9951957256307693\n"
          ]
        }
      ],
      "source": [
        "from sklearn.metrics import r2_score\n",
        "\n",
        "# Assuming y_test is your actual target values and y_prediction is the predicted values\n",
        "r2_score_value = r2_score(y_test, y_pred)\n",
        "print(r2_score_value)"
      ]
    },
    {
      "cell_type": "markdown",
      "id": "cbbe40a7",
      "metadata": {
        "id": "cbbe40a7"
      },
      "source": [
        "- The R2 score for Random Forest Regression is significantly higher (approximately 0.0.9951957256307693) compared to Linear Regression (approximately 0.8436). This indicates that the Random Forest Regression model performs exceptionally well in explaining the variance in the target variable based on the independent variables.\n",
        "\n",
        "- A high R2 score close to 1 suggests that the Random Forest model is almost perfectly able to predict the target variable based on the features provided. In contrast, while the R2 score for Linear Regression is also relatively high, it is lower compared to Random Forest, indicating that Linear Regression explains less of the variance in the target variable compared to Random Forest."
      ]
    },
    {
      "cell_type": "code",
      "execution_count": null,
      "id": "a4daf837",
      "metadata": {
        "id": "a4daf837",
        "outputId": "677c783a-2064-4561-81ca-b256a94d06e9"
      },
      "outputs": [
        {
          "data": {
            "image/png": "[encoded data removed]",
            "text/plain": [
              "<Figure size 1000x600 with 1 Axes>"
            ]
          },
          "metadata": {},
          "output_type": "display_data"
        }
      ],
      "source": [
        "import matplotlib.pyplot as plt\n",
        "\n",
        "# Plotting the scatter plot for Random Forest Regression\n",
        "plt.figure(figsize=(10, 6))\n",
        "plt.scatter(y_test, y_prediction, color='blue', label='Actual vs Predicted')\n",
        "\n",
        "# Adding a line for perfect predictions\n",
        "plt.plot([min(y_test), max(y_test)], [min(y_test), max(y_test)], color='red', linestyle='--', label='Perfect predictions')\n",
        "\n",
        "plt.title('Random Forest Regression: Actual vs Predicted')\n",
        "plt.xlabel('Actual House Value Trends')\n",
        "plt.ylabel('Predicted House Value Trends')\n",
        "plt.legend()\n",
        "plt.grid(True)\n",
        "plt.show()\n"
      ]
    },
    {
      "cell_type": "markdown",
      "id": "d7421804",
      "metadata": {
        "id": "d7421804"
      },
      "source": [
        "# predicted for 2024"
      ]
    },
    {
      "cell_type": "code",
      "execution_count": null,
      "id": "de607a2e",
      "metadata": {
        "id": "de607a2e",
        "outputId": "edf88c7e-cc6f-4948-8ba7-24b62a7b6ee1"
      },
      "outputs": [
        {
          "name": "stdout",
          "output_type": "stream",
          "text": [
            "Predicted house value for the year 2024: 304.9198392634033\n"
          ]
        },
        {
          "name": "stderr",
          "output_type": "stream",
          "text": [
            "C:\\Users\\Administrator\\anaconda3\\Lib\\site-packages\\sklearn\\base.py:464: UserWarning: X does not have valid feature names, but RandomForestRegressor was fitted with feature names\n",
            "  warnings.warn(\n"
          ]
        }
      ],
      "source": [
        "X_new = [[2024]]  # Assuming you want to predict for the year 2024\n",
        "\n",
        "# Making predictions using the trained Random Forest Regression model\n",
        "predicted_house_value = RF.predict(X_new)\n",
        "\n",
        "print(\"Predicted house value for the year 2024:\", predicted_house_value[0])"
      ]
    },
    {
      "cell_type": "markdown",
      "id": "af9ad8f0",
      "metadata": {
        "id": "af9ad8f0"
      },
      "source": [
        "# NEXT, I  TRIED TO PREDICT  FOR YEAR, MONTHS AND DAY\n",
        "\n"
      ]
    },
    {
      "cell_type": "code",
      "execution_count": null,
      "id": "49ece27f",
      "metadata": {
        "id": "49ece27f",
        "outputId": "92038825-74e3-4e79-9334-46ff3fb1bf6e"
      },
      "outputs": [
        {
          "data": {
            "text/html": [
              "<div>\n",
              "<style scoped>\n",
              "    .dataframe tbody tr th:only-of-type {\n",
              "        vertical-align: middle;\n",
              "    }\n",
              "\n",
              "    .dataframe tbody tr th {\n",
              "        vertical-align: top;\n",
              "    }\n",
              "\n",
              "    .dataframe thead th {\n",
              "        text-align: right;\n",
              "    }\n",
              "</style>\n",
              "<table border=\"1\" class=\"dataframe\">\n",
              "  <thead>\n",
              "    <tr style=\"text-align: right;\">\n",
              "      <th></th>\n",
              "      <th>DATE</th>\n",
              "      <th>CSUSHPISA</th>\n",
              "    </tr>\n",
              "  </thead>\n",
              "  <tbody>\n",
              "    <tr>\n",
              "      <th>0</th>\n",
              "      <td>1987-01-01</td>\n",
              "      <td>63.965</td>\n",
              "    </tr>\n",
              "    <tr>\n",
              "      <th>1</th>\n",
              "      <td>1987-02-01</td>\n",
              "      <td>64.424</td>\n",
              "    </tr>\n",
              "    <tr>\n",
              "      <th>2</th>\n",
              "      <td>1987-03-01</td>\n",
              "      <td>64.736</td>\n",
              "    </tr>\n",
              "    <tr>\n",
              "      <th>3</th>\n",
              "      <td>1987-04-01</td>\n",
              "      <td>65.131</td>\n",
              "    </tr>\n",
              "    <tr>\n",
              "      <th>4</th>\n",
              "      <td>1987-05-01</td>\n",
              "      <td>65.564</td>\n",
              "    </tr>\n",
              "  </tbody>\n",
              "</table>\n",
              "</div>"
            ],
            "text/plain": [
              "         DATE  CSUSHPISA\n",
              "0  1987-01-01     63.965\n",
              "1  1987-02-01     64.424\n",
              "2  1987-03-01     64.736\n",
              "3  1987-04-01     65.131\n",
              "4  1987-05-01     65.564"
            ]
          },
          "execution_count": 31,
          "metadata": {},
          "output_type": "execute_result"
        }
      ],
      "source": [
        "dset2 = pd.read_csv(\"CSUSHPISA.csv\")\n",
        "dset2.head()\n"
      ]
    },
    {
      "cell_type": "code",
      "execution_count": null,
      "id": "6f02dbef",
      "metadata": {
        "id": "6f02dbef"
      },
      "outputs": [],
      "source": [
        "# Step 2: Feature Engineering\n",
        "# Convert the 'DATE' column to datetime format\n",
        "dset2['DATE'] = pd.to_datetime(dset2['DATE'])\n",
        "\n",
        "# Extract year, month, and day\n",
        "dset2['year'] = dset2['DATE'].dt.year\n",
        "dset2['month'] = dset2['DATE'].dt.month\n",
        "dset2['day'] = dset2['DATE'].dt.day\n"
      ]
    },
    {
      "cell_type": "code",
      "execution_count": null,
      "id": "db0a9084",
      "metadata": {
        "id": "db0a9084"
      },
      "outputs": [],
      "source": [
        "# Set the 'DATE' column as the index\n",
        "dset2.set_index('DATE', inplace=True)\n"
      ]
    },
    {
      "cell_type": "code",
      "execution_count": null,
      "id": "d6475319",
      "metadata": {
        "id": "d6475319"
      },
      "outputs": [],
      "source": [
        "# Rename the 'CSUSHPISA' column to 'Housevalue_trends'\n",
        "dset2.rename(columns={'CSUSHPISA': 'Housevalue_trends'}, inplace=True)"
      ]
    },
    {
      "cell_type": "code",
      "execution_count": null,
      "id": "c3d87831",
      "metadata": {
        "id": "c3d87831",
        "outputId": "fc66c83a-3b10-4921-c544-68c3f43214a6"
      },
      "outputs": [
        {
          "data": {
            "text/html": [
              "<div>\n",
              "<style scoped>\n",
              "    .dataframe tbody tr th:only-of-type {\n",
              "        vertical-align: middle;\n",
              "    }\n",
              "\n",
              "    .dataframe tbody tr th {\n",
              "        vertical-align: top;\n",
              "    }\n",
              "\n",
              "    .dataframe thead th {\n",
              "        text-align: right;\n",
              "    }\n",
              "</style>\n",
              "<table border=\"1\" class=\"dataframe\">\n",
              "  <thead>\n",
              "    <tr style=\"text-align: right;\">\n",
              "      <th></th>\n",
              "      <th>Housevalue_trends</th>\n",
              "      <th>year</th>\n",
              "      <th>month</th>\n",
              "      <th>day</th>\n",
              "    </tr>\n",
              "    <tr>\n",
              "      <th>DATE</th>\n",
              "      <th></th>\n",
              "      <th></th>\n",
              "      <th></th>\n",
              "      <th></th>\n",
              "    </tr>\n",
              "  </thead>\n",
              "  <tbody>\n",
              "    <tr>\n",
              "      <th>1987-01-01</th>\n",
              "      <td>63.965</td>\n",
              "      <td>1987</td>\n",
              "      <td>1</td>\n",
              "      <td>1</td>\n",
              "    </tr>\n",
              "    <tr>\n",
              "      <th>1987-02-01</th>\n",
              "      <td>64.424</td>\n",
              "      <td>1987</td>\n",
              "      <td>2</td>\n",
              "      <td>1</td>\n",
              "    </tr>\n",
              "    <tr>\n",
              "      <th>1987-03-01</th>\n",
              "      <td>64.736</td>\n",
              "      <td>1987</td>\n",
              "      <td>3</td>\n",
              "      <td>1</td>\n",
              "    </tr>\n",
              "    <tr>\n",
              "      <th>1987-04-01</th>\n",
              "      <td>65.131</td>\n",
              "      <td>1987</td>\n",
              "      <td>4</td>\n",
              "      <td>1</td>\n",
              "    </tr>\n",
              "    <tr>\n",
              "      <th>1987-05-01</th>\n",
              "      <td>65.564</td>\n",
              "      <td>1987</td>\n",
              "      <td>5</td>\n",
              "      <td>1</td>\n",
              "    </tr>\n",
              "    <tr>\n",
              "      <th>...</th>\n",
              "      <td>...</td>\n",
              "      <td>...</td>\n",
              "      <td>...</td>\n",
              "      <td>...</td>\n",
              "    </tr>\n",
              "    <tr>\n",
              "      <th>2023-08-01</th>\n",
              "      <td>309.236</td>\n",
              "      <td>2023</td>\n",
              "      <td>8</td>\n",
              "      <td>1</td>\n",
              "    </tr>\n",
              "    <tr>\n",
              "      <th>2023-09-01</th>\n",
              "      <td>311.195</td>\n",
              "      <td>2023</td>\n",
              "      <td>9</td>\n",
              "      <td>1</td>\n",
              "    </tr>\n",
              "    <tr>\n",
              "      <th>2023-10-01</th>\n",
              "      <td>312.882</td>\n",
              "      <td>2023</td>\n",
              "      <td>10</td>\n",
              "      <td>1</td>\n",
              "    </tr>\n",
              "    <tr>\n",
              "      <th>2023-11-01</th>\n",
              "      <td>313.648</td>\n",
              "      <td>2023</td>\n",
              "      <td>11</td>\n",
              "      <td>1</td>\n",
              "    </tr>\n",
              "    <tr>\n",
              "      <th>2023-12-01</th>\n",
              "      <td>314.259</td>\n",
              "      <td>2023</td>\n",
              "      <td>12</td>\n",
              "      <td>1</td>\n",
              "    </tr>\n",
              "  </tbody>\n",
              "</table>\n",
              "<p>444 rows × 4 columns</p>\n",
              "</div>"
            ],
            "text/plain": [
              "            Housevalue_trends  year  month  day\n",
              "DATE                                           \n",
              "1987-01-01             63.965  1987      1    1\n",
              "1987-02-01             64.424  1987      2    1\n",
              "1987-03-01             64.736  1987      3    1\n",
              "1987-04-01             65.131  1987      4    1\n",
              "1987-05-01             65.564  1987      5    1\n",
              "...                       ...   ...    ...  ...\n",
              "2023-08-01            309.236  2023      8    1\n",
              "2023-09-01            311.195  2023      9    1\n",
              "2023-10-01            312.882  2023     10    1\n",
              "2023-11-01            313.648  2023     11    1\n",
              "2023-12-01            314.259  2023     12    1\n",
              "\n",
              "[444 rows x 4 columns]"
            ]
          },
          "execution_count": 42,
          "metadata": {},
          "output_type": "execute_result"
        }
      ],
      "source": [
        "dset2"
      ]
    },
    {
      "cell_type": "code",
      "execution_count": null,
      "id": "379a7b8e",
      "metadata": {
        "id": "379a7b8e"
      },
      "outputs": [],
      "source": [
        "#Data splitting and scaling\n",
        "X = dset2[['year', 'month', 'day']]  # Features\n",
        "y = dset2['Housevalue_trends']"
      ]
    },
    {
      "cell_type": "code",
      "execution_count": null,
      "id": "2ffa68e6",
      "metadata": {
        "id": "2ffa68e6"
      },
      "outputs": [],
      "source": [
        "# Data splitting\n",
        "X_train, X_test, y_train, y_test = train_test_split(X, y, test_size=0.2, random_state=42)"
      ]
    },
    {
      "cell_type": "code",
      "execution_count": null,
      "id": "bf2276b7",
      "metadata": {
        "id": "bf2276b7",
        "outputId": "4e2830f1-10b3-46a6-e294-23559e3173da"
      },
      "outputs": [
        {
          "data": {
            "text/html": [
              "<style>#sk-container-id-3 {color: black;}#sk-container-id-3 pre{padding: 0;}#sk-container-id-3 div.sk-toggleable {background-color: white;}#sk-container-id-3 label.sk-toggleable__label {cursor: pointer;display: block;width: 100%;margin-bottom: 0;padding: 0.3em;box-sizing: border-box;text-align: center;}#sk-container-id-3 label.sk-toggleable__label-arrow:before {content: \"▸\";float: left;margin-right: 0.25em;color: #696969;}#sk-container-id-3 label.sk-toggleable__label-arrow:hover:before {color: black;}#sk-container-id-3 div.sk-estimator:hover label.sk-toggleable__label-arrow:before {color: black;}#sk-container-id-3 div.sk-toggleable__content {max-height: 0;max-width: 0;overflow: hidden;text-align: left;background-color: #f0f8ff;}#sk-container-id-3 div.sk-toggleable__content pre {margin: 0.2em;color: black;border-radius: 0.25em;background-color: #f0f8ff;}#sk-container-id-3 input.sk-toggleable__control:checked~div.sk-toggleable__content {max-height: 200px;max-width: 100%;overflow: auto;}#sk-container-id-3 input.sk-toggleable__control:checked~label.sk-toggleable__label-arrow:before {content: \"▾\";}#sk-container-id-3 div.sk-estimator input.sk-toggleable__control:checked~label.sk-toggleable__label {background-color: #d4ebff;}#sk-container-id-3 div.sk-label input.sk-toggleable__control:checked~label.sk-toggleable__label {background-color: #d4ebff;}#sk-container-id-3 input.sk-hidden--visually {border: 0;clip: rect(1px 1px 1px 1px);clip: rect(1px, 1px, 1px, 1px);height: 1px;margin: -1px;overflow: hidden;padding: 0;position: absolute;width: 1px;}#sk-container-id-3 div.sk-estimator {font-family: monospace;background-color: #f0f8ff;border: 1px dotted black;border-radius: 0.25em;box-sizing: border-box;margin-bottom: 0.5em;}#sk-container-id-3 div.sk-estimator:hover {background-color: #d4ebff;}#sk-container-id-3 div.sk-parallel-item::after {content: \"\";width: 100%;border-bottom: 1px solid gray;flex-grow: 1;}#sk-container-id-3 div.sk-label:hover label.sk-toggleable__label {background-color: #d4ebff;}#sk-container-id-3 div.sk-serial::before {content: \"\";position: absolute;border-left: 1px solid gray;box-sizing: border-box;top: 0;bottom: 0;left: 50%;z-index: 0;}#sk-container-id-3 div.sk-serial {display: flex;flex-direction: column;align-items: center;background-color: white;padding-right: 0.2em;padding-left: 0.2em;position: relative;}#sk-container-id-3 div.sk-item {position: relative;z-index: 1;}#sk-container-id-3 div.sk-parallel {display: flex;align-items: stretch;justify-content: center;background-color: white;position: relative;}#sk-container-id-3 div.sk-item::before, #sk-container-id-3 div.sk-parallel-item::before {content: \"\";position: absolute;border-left: 1px solid gray;box-sizing: border-box;top: 0;bottom: 0;left: 50%;z-index: -1;}#sk-container-id-3 div.sk-parallel-item {display: flex;flex-direction: column;z-index: 1;position: relative;background-color: white;}#sk-container-id-3 div.sk-parallel-item:first-child::after {align-self: flex-end;width: 50%;}#sk-container-id-3 div.sk-parallel-item:last-child::after {align-self: flex-start;width: 50%;}#sk-container-id-3 div.sk-parallel-item:only-child::after {width: 0;}#sk-container-id-3 div.sk-dashed-wrapped {border: 1px dashed gray;margin: 0 0.4em 0.5em 0.4em;box-sizing: border-box;padding-bottom: 0.4em;background-color: white;}#sk-container-id-3 div.sk-label label {font-family: monospace;font-weight: bold;display: inline-block;line-height: 1.2em;}#sk-container-id-3 div.sk-label-container {text-align: center;}#sk-container-id-3 div.sk-container {/* jupyter's `normalize.less` sets `[hidden] { display: none; }` but bootstrap.min.css set `[hidden] { display: none !important; }` so we also need the `!important` here to be able to override the default hidden behavior on the sphinx rendered scikit-learn.org. See: https://github.com/scikit-learn/scikit-learn/issues/21755 */display: inline-block !important;position: relative;}#sk-container-id-3 div.sk-text-repr-fallback {display: none;}</style><div id=\"sk-container-id-3\" class=\"sk-top-container\"><div class=\"sk-text-repr-fallback\"><pre>RandomForestRegressor(max_depth=5)</pre><b>In a Jupyter environment, please rerun this cell to show the HTML representation or trust the notebook. <br />On GitHub, the HTML representation is unable to render, please try loading this page with nbviewer.org.</b></div><div class=\"sk-container\" hidden><div class=\"sk-item\"><div class=\"sk-estimator sk-toggleable\"><input class=\"sk-toggleable__control sk-hidden--visually\" id=\"sk-estimator-id-3\" type=\"checkbox\" checked><label for=\"sk-estimator-id-3\" class=\"sk-toggleable__label sk-toggleable__label-arrow\">RandomForestRegressor</label><div class=\"sk-toggleable__content\"><pre>RandomForestRegressor(max_depth=5)</pre></div></div></div></div></div>"
            ],
            "text/plain": [
              "RandomForestRegressor(max_depth=5)"
            ]
          },
          "execution_count": 37,
          "metadata": {},
          "output_type": "execute_result"
        }
      ],
      "source": [
        "#model training\n",
        "from sklearn.ensemble import RandomForestRegressor\n",
        "\n",
        "# Our forest consists of 100 trees with a max depth of 5 in this example\n",
        "RF = RandomForestRegressor(n_estimators=100, max_depth=5)\n",
        "RF.fit(X_train,y_train)"
      ]
    },
    {
      "cell_type": "code",
      "execution_count": null,
      "id": "8cdd333f",
      "metadata": {
        "id": "8cdd333f",
        "outputId": "c2f26db7-3d9b-4e2e-cd01-5514982a6c65"
      },
      "outputs": [
        {
          "name": "stdout",
          "output_type": "stream",
          "text": [
            "RMSE: 3.8263470316497465\n"
          ]
        }
      ],
      "source": [
        "#doing the predictions\n",
        "# Get predictions\n",
        "y_pred = RF.predict(X_test)\n",
        "\n",
        "# Compute RMSE\n",
        "print(\"RMSE:\",np.sqrt(mean_squared_error(y_test,y_pred)))"
      ]
    },
    {
      "cell_type": "markdown",
      "id": "d4bf262d",
      "metadata": {
        "id": "d4bf262d"
      },
      "source": [
        "with an RMSE of 3.82, we can conclude that the Random Forest Regression model is making reasonably accurate predictions of house prices, with relatively small errors between the predicted and actual values."
      ]
    },
    {
      "cell_type": "code",
      "execution_count": null,
      "id": "f204eea6",
      "metadata": {
        "id": "f204eea6",
        "outputId": "3781b37e-06f2-4a1c-b37f-e5bb55fd0e30"
      },
      "outputs": [
        {
          "name": "stdout",
          "output_type": "stream",
          "text": [
            "0.9974542633393447\n"
          ]
        }
      ],
      "source": [
        "from sklearn.metrics import r2_score\n",
        "\n",
        "# Assuming y_test is your actual target values and y_prediction is the predicted values\n",
        "r2_score_value = r2_score(y_test, y_pred)\n",
        "print(r2_score_value)"
      ]
    },
    {
      "cell_type": "markdown",
      "id": "b77ddfe3",
      "metadata": {
        "id": "b77ddfe3"
      },
      "source": [
        "- In this case, the R2 score of  indicates that 0.9974542633393447 approximately 99.74% of the variance in the house price values is explained by the independent variables included in the model.\n",
        "\n",
        "- A high R2 score close to 1 suggests that the model is able to accurately capture the underlying relationships between the features and the target variable. It indicates that the model provides an excellent fit to the observed data and that it can make highly accurate predictions of the house prices based on the provided features.\n",
        "\n",
        "- Overall, a high R2 score like this indicates that the Random Forest Regression model is performing exceptionally well in predicting house prices, with very little unexplained variance remaining in the model."
      ]
    },
    {
      "cell_type": "code",
      "execution_count": null,
      "id": "f96ee53d",
      "metadata": {
        "id": "f96ee53d",
        "outputId": "5669c510-6d2d-459c-cea9-f5b298665d77"
      },
      "outputs": [
        {
          "data": {
            "image/png": "[encoded data removed]",
            "text/plain": [
              "<Figure size 1000x600 with 1 Axes>"
            ]
          },
          "metadata": {},
          "output_type": "display_data"
        }
      ],
      "source": [
        "import matplotlib.pyplot as plt\n",
        "\n",
        "# Plotting the scatter plot for Random Forest Regression\n",
        "plt.figure(figsize=(10, 6))\n",
        "plt.scatter(y_test, y_prediction, color='blue', label='Actual vs Predicted')\n",
        "\n",
        "# Adding a line for perfect predictions\n",
        "plt.plot([min(y_test), max(y_test)], [min(y_test), max(y_test)], color='red', linestyle='--', label='Perfect predictions')\n",
        "\n",
        "plt.title('Random Forest Regression: Actual vs Predicted')\n",
        "plt.xlabel('Actual House Value Trends')\n",
        "plt.ylabel('Predicted House Value Trends')\n",
        "plt.legend()\n",
        "plt.grid(True)\n",
        "plt.show()\n"
      ]
    },
    {
      "cell_type": "code",
      "execution_count": null,
      "id": "19f752fa",
      "metadata": {
        "id": "19f752fa",
        "outputId": "8e97db87-b04c-4843-c343-b8e02568a144"
      },
      "outputs": [
        {
          "name": "stdout",
          "output_type": "stream",
          "text": [
            "Predicted house value for January 1, 2024: 297.1885059444444\n"
          ]
        }
      ],
      "source": [
        "\n",
        "\n",
        "# Assuming X_new is a DataFrame with columns ['year', 'month', 'day']\n",
        "X_new = pd.DataFrame([[2024, 1, 1]], columns=['year', 'month', 'day'])\n",
        "\n",
        "# Making predictions using the trained Random Forest Regression model\n",
        "predicted_house_value = RF.predict(X_new)\n",
        "\n",
        "print(\"Predicted house value for January 1, 2024:\", predicted_house_value[0])\n"
      ]
    },
    {
      "cell_type": "markdown",
      "id": "f1ea5b53",
      "metadata": {
        "id": "f1ea5b53"
      },
      "source": [
        "- The output \"Predicted house value for January 1, 2024: 297.18\" indicates the predicted value for the house price on January 1, 2024, based on the trained Random Forest Regression model.\n",
        "\n",
        "- When you use the model to make predictions for a specific date, such as January 1, 2024, the model takes into account the features (in this case, the year, month, and day) associated with that date and produces an estimate for the house price. In this instance, the model predicts that the house price will be approximately 297.19 on January 1, 2024.\n",
        "\n",
        "- This prediction is based on the patterns and relationships learned by the model from the historical data during the training phase. The Random Forest Regression model considers multiple decision trees and averages their predictions to provide a more accurate and robust estimate of the target variable, which, in this case, is the house price."
      ]
    },
    {
      "cell_type": "code",
      "execution_count": null,
      "id": "49116ca8",
      "metadata": {
        "id": "49116ca8"
      },
      "outputs": [],
      "source": []
    }
  ],
  "metadata": {
    "kernelspec": {
      "display_name": "Python 3 (ipykernel)",
      "language": "python",
      "name": "python3"
    },
    "language_info": {
      "codemirror_mode": {
        "name": "ipython",
        "version": 3
      },
      "file_extension": ".py",
      "mimetype": "text/x-python",
      "name": "python",
      "nbconvert_exporter": "python",
      "pygments_lexer": "ipython3",
      "version": "3.11.4"
    },
    "colab": {
      "provenance": []
    }
  },
  "nbformat": 4,
  "nbformat_minor": 5
}